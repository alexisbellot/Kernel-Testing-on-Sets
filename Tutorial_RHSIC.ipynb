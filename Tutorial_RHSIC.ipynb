{
 "cells": [
  {
   "cell_type": "markdown",
   "metadata": {},
   "source": [
    "# Example use case of the RHSIC\n",
    "\n",
    "This notebook provides a simple use case of the Robust Hilbert Schmidt Independence Criterion for testing dependence between distributions observed with two nested levels of sampling, based on our paper *\"Kernel Hypothesis Testing with Set-valued Data\"*."
   ]
  },
  {
   "cell_type": "markdown",
   "metadata": {},
   "source": [
    "## What is the RHSIC test?"
   ]
  },
  {
   "cell_type": "markdown",
   "metadata": {},
   "source": [
    "The independence problem considers testing whether the marginal distributions a set of paired samples factorizes into separate components, or in other words whether the random variables involved behave independently of each other. Similarly to the two sample problem, in many applications, units of data consist of sets of correlated points, which violate the *i.i.d* assumption most tests require. "
   ]
  },
  {
   "cell_type": "markdown",
   "metadata": {},
   "source": [
    "We consider representing each set as independent draws from separate probability distributions that encode the uncertainty within the sets we do observe. Each one of them is assumed sampled in turn by a meta-distribution we are interested in understanding. The problem becomes determining equality in meta-distribution in two collections of a number of sets. We take a two-stage approach to this problem: first mapping empirical distributions into a Reproducing Hilbert kernel space, in which the representation of our data can be directly compared.  "
   ]
  },
  {
   "cell_type": "markdown",
   "metadata": {},
   "source": [
    "Let us import some necessary packages before illustrating this problem with a simple example."
   ]
  },
  {
   "cell_type": "code",
   "execution_count": 2,
   "metadata": {},
   "outputs": [
    {
     "name": "stdout",
     "output_type": "stream",
     "text": [
      "The autoreload extension is already loaded. To reload it, use:\n",
      "  %reload_ext autoreload\n"
     ]
    }
   ],
   "source": [
    "import matplotlib.pyplot as plt\n",
    "import data as data\n",
    "import general_utils\n",
    "import numpy as np\n",
    "import kernel_utils\n",
    "import independence_test_utils as tst"
   ]
  },
  {
   "cell_type": "markdown",
   "metadata": {},
   "source": [
    "We start by generating irregularly sampled time series from a noisy sine function, and let each observation be paired with its square with additive noise. The time series are dependent. We generate 100 paired time series, each with 100 observations."
   ]
  },
  {
   "cell_type": "code",
   "execution_count": 7,
   "metadata": {},
   "outputs": [],
   "source": [
    "t1, y1, t2, y2 = data.generate_conditional_functions(size=100, num_obs = 50, function='sine', \n",
    "                                                     var=0.5,transformation = 1,mean = 0)"
   ]
  },
  {
   "cell_type": "markdown",
   "metadata": {},
   "source": [
    "Lets plot some of these samples."
   ]
  },
  {
   "cell_type": "code",
   "execution_count": 8,
   "metadata": {},
   "outputs": [
    {
     "data": {
      "text/plain": [
       "<matplotlib.collections.PathCollection at 0x230b07f9668>"
      ]
     },
     "execution_count": 8,
     "metadata": {},
     "output_type": "execute_result"
    },
    {
     "data": {
      "image/png": "[encoded data removed]",
      "text/plain": [
       "<Figure size 432x288 with 1 Axes>"
      ]
     },
     "metadata": {
      "needs_background": "light"
     },
     "output_type": "display_data"
    }
   ],
   "source": [
    "plt.figure()\n",
    "plt.scatter(t1[1].flatten(), y1[1].flatten(), color='dodgerblue',alpha=0.5)\n",
    "plt.scatter(t2[0].flatten(), y2[0].flatten(), color='red',alpha=0.5)"
   ]
  },
  {
   "cell_type": "markdown",
   "metadata": {},
   "source": [
    "Our test can be run by simply calling the following function. Three options are available depending onthe desired output: 'full', for a complete output with test statistic values, permutation values, and decision; 'p_value' for the p value only; and, 'stat', for the test statistic. "
   ]
  },
  {
   "cell_type": "code",
   "execution_count": 11,
   "metadata": {},
   "outputs": [
    {
     "data": {
      "text/plain": [
       "0.0"
      ]
     },
     "execution_count": 11,
     "metadata": {},
     "output_type": "execute_result"
    }
   ],
   "source": [
    "tst.RHSIC(t1,y1,t2,y2,alpha=0.05,output = 'p_value')"
   ]
  }
 ],
 "metadata": {
  "kernelspec": {
   "display_name": "tensorflow",
   "language": "python",
   "name": "tensorflow"
  },
  "language_info": {
   "codemirror_mode": {
    "name": "ipython",
    "version": 3
   },
   "file_extension": ".py",
   "mimetype": "text/x-python",
   "name": "python",
   "nbconvert_exporter": "python",
   "pygments_lexer": "ipython3",
   "version": "3.6.8"
  }
 },
 "nbformat": 4,
 "nbformat_minor": 4
}
