{
 "cells": [
  {
   "cell_type": "markdown",
   "metadata": {},
   "source": [
    "# Example use case of the RMMD\n",
    "\n",
    "This notebook provides a simple use case of the Robust Maximum Mean Discrepancy for testing equality between distributions observed with two nested levels of sampling, based on our paper *\"Kernel Hypothesis Testing with Set-valued Data\"*."
   ]
  },
  {
   "cell_type": "markdown",
   "metadata": {},
   "source": [
    "## What is the Robust Maximum Mean Discrepancy test?"
   ]
  },
  {
   "cell_type": "markdown",
   "metadata": {},
   "source": [
    "The two-sample problem considers testing whether two independent samples are likely drawn from the same distribution. Conventional tests, however, are often applicable to data that is defined in a fixed-dimensional space. In many applications, units of data however consist of sets of correlated points, which violate the *i.i.d* assumption most tests require. Examples in practice are plentiful, such as time series, different angles of the same image or bags of words to describe text. Crucially, data units such as time series may be irregularly sampled, noisy, and of different length. Direct comparisons are not possible. "
   ]
  },
  {
   "cell_type": "markdown",
   "metadata": {},
   "source": [
    "We consider representing each set as independent draws from separate probability distributions that encode the uncertainty within the sets we do observe. Each one of them is assumed sampled in turn by a meta-distribution we are interested in understanding. The problem becomes determining equality in meta-distribution in two collections of a number of sets. We take a two-stage approach to this problem: first mapping empirical distributions into a Reproducing Hilbert kernel space, in which the representation of our data can be directly compared.  "
   ]
  },
  {
   "cell_type": "markdown",
   "metadata": {},
   "source": [
    "Let us import some necessary packages before illustrating this problem with a simple example."
   ]
  },
  {
   "cell_type": "code",
   "execution_count": 2,
   "metadata": {},
   "outputs": [],
   "source": [
    "import matplotlib.pyplot as plt\n",
    "import data as data\n",
    "import general_utils\n",
    "import numpy as np\n",
    "import data as data\n",
    "import kernel_utils\n",
    "import two_sample_test_utils as tst"
   ]
  },
  {
   "cell_type": "markdown",
   "metadata": {},
   "source": [
    "We start by generating irregularly sampled time series data under the null. We generate 500 time series, each with 10 observations sampled from a sine function perturbed by independent Gaussian noise terms"
   ]
  },
  {
   "cell_type": "code",
   "execution_count": 14,
   "metadata": {},
   "outputs": [],
   "source": [
    "t1, y1 = data.generate_random_functions(size=500, num_obs = 10, function='sine', variance=0.1)\n",
    "t2, y2 = data.generate_random_functions(size=500, num_obs = 10, function='sine', variance=0.1)"
   ]
  },
  {
   "cell_type": "markdown",
   "metadata": {},
   "source": [
    "Lets plot some of these samples."
   ]
  },
  {
   "cell_type": "code",
   "execution_count": 12,
   "metadata": {},
   "outputs": [
    {
     "data": {
      "text/plain": [
       "<matplotlib.collections.PathCollection at 0x228365cecf8>"
      ]
     },
     "execution_count": 12,
     "metadata": {},
     "output_type": "execute_result"
    },
    {
     "data": {
      "image/png": "[encoded data removed]",
      "text/plain": [
       "<Figure size 432x288 with 1 Axes>"
      ]
     },
     "metadata": {
      "needs_background": "light"
     },
     "output_type": "display_data"
    }
   ],
   "source": [
    "plt.figure()\n",
    "plt.scatter(t1[0].flatten(), y1[0].flatten(), color='dodgerblue')\n",
    "plt.scatter(t2[0].flatten(), y2[0].flatten(), color='red')"
   ]
  },
  {
   "cell_type": "markdown",
   "metadata": {},
   "source": [
    "Our test can be run by simply calling the following function. Three options are available depending onthe desired output: 'full', for a complete output with test statistic values, permutation values, and decision; 'p_value' for the p value only; and, 'stat', for the test statistic. "
   ]
  },
  {
   "cell_type": "code",
   "execution_count": 15,
   "metadata": {},
   "outputs": [
    {
     "data": {
      "text/plain": [
       "0.71"
      ]
     },
     "execution_count": 15,
     "metadata": {},
     "output_type": "execute_result"
    }
   ],
   "source": [
    "tst.RMMD(t1,y1,t2,y2,output='p_value')"
   ]
  }
 ],
 "metadata": {
  "kernelspec": {
   "display_name": "tensorflow",
   "language": "python",
   "name": "tensorflow"
  },
  "language_info": {
   "codemirror_mode": {
    "name": "ipython",
    "version": 3
   },
   "file_extension": ".py",
   "mimetype": "text/x-python",
   "name": "python",
   "nbconvert_exporter": "python",
   "pygments_lexer": "ipython3",
   "version": "3.6.8"
  }
 },
 "nbformat": 4,
 "nbformat_minor": 4
}
