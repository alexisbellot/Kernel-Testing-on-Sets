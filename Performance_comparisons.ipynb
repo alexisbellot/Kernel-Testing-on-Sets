{
 "cells": [
  {
   "cell_type": "markdown",
   "metadata": {},
   "source": [
    "This script reproduces the results presented in the two-sample experiments. For comparisons with other methods include any one of 'tst.GP_test', 'tst.MMD', 'tst.C2ST', in the the methods list below."
   ]
  },
  {
   "cell_type": "code",
   "execution_count": 9,
   "metadata": {},
   "outputs": [
    {
     "name": "stdout",
     "output_type": "stream",
     "text": [
      "The autoreload extension is already loaded. To reload it, use:\n",
      "  %reload_ext autoreload\n"
     ]
    }
   ],
   "source": [
    "%load_ext autoreload\n",
    "%autoreload 2\n",
    "%matplotlib inline\n",
    "import numpy as np\n",
    "import matplotlib.pyplot as plt\n",
    "import general_utils as general_utils\n",
    "import data as data\n",
    "import kernel_utils as kernel_utils\n",
    "import two_sample_test_utils as tst"
   ]
  },
  {
   "cell_type": "markdown",
   "metadata": {},
   "source": [
    "### Comparisons on type I error for different sample sizes and number of observations\n",
    "We generate data under the null hypothesis of equal distribution. Below we define the methods to be compared, our desired level $\\alpha$ and the number of runs our results will be avergaed over."
   ]
  },
  {
   "cell_type": "code",
   "execution_count": 5,
   "metadata": {},
   "outputs": [
    {
     "name": "stderr",
     "output_type": "stream",
     "text": [
      "100%|████████████████████████████████████████████████████████████████████████████████| 100/100 [00:07<00:00, 12.72it/s]\n",
      "100%|████████████████████████████████████████████████████████████████████████████████| 100/100 [00:19<00:00,  5.02it/s]\n",
      "100%|████████████████████████████████████████████████████████████████████████████████| 100/100 [00:49<00:00,  2.00it/s]\n"
     ]
    },
    {
     "name": "stdout",
     "output_type": "stream",
     "text": [
      "Type I error across different number of samples\n",
      "method: RMMD; param value: 100  -->  0.09999999999999999\n",
      "method: RMMD; param value: 250  -->  0.09999999999999999\n",
      "method: RMMD; param value: 500  -->  0.17\n"
     ]
    }
   ],
   "source": [
    "methods = [tst.RMMD] # note tst.GP_test takes a long time to run\n",
    "alpha = 0.05 # significance level\n",
    "num_runs= 100 # number of times experiment is replicated\n",
    "variance = 0.1 # variance of the error terms\n",
    "\n",
    "# iterate over different sample sizes\n",
    "params_size = [100,250,500]\n",
    "type_I_error = general_utils.performance_comparisons(methods,num_runs,param_name='size',params=params_size,\n",
    "                                                     var1=variance, var2=variance,alpha=alpha,num_obs=20,\n",
    "                                                     meta_mu=6)\n",
    "\n",
    "print(\"Type I error across different number of samples\")\n",
    "for key, value in type_I_error.items():\n",
    "     print(key, '--> ', value)"
   ]
  },
  {
   "cell_type": "code",
   "execution_count": null,
   "metadata": {},
   "outputs": [
    {
     "name": "stderr",
     "output_type": "stream",
     "text": [
      "  4%|███▏                                                                             | 20/500 [00:10<04:20,  1.84it/s]"
     ]
    }
   ],
   "source": [
    "methods = [tst.RMMD,tst.MMD]\n",
    "alpha = 0.05 \n",
    "num_runs= 500\n",
    "variance = 0.25\n",
    "\n",
    "# iterate over different number of observations\n",
    "params = [5,10,20,50,100]\n",
    "type_I_error = general_utils.performance_comparisons(methods,num_runs,param_name='num_obs',params=params,\n",
    "                                                     var1=variance, var2=variance,alpha=alpha)\n",
    "print(\"Type I error across different number of observations\")\n",
    "for key, value in type_I_error.items():\n",
    "     print(key, '--> ', value)                "
   ]
  },
  {
   "cell_type": "markdown",
   "metadata": {},
   "source": [
    "### Comparisons on power for convergent mean functions\n",
    "We generate data under the hypothesis of different underlying distributions. For this experiment, the mean functions are both sine waves but we will vary the amplitude to make the problem progressively harder. Variance in both samples remains the same. Below we define the methods to be compared, our desired level $\\alpha$ and the number of runs our results will be avergaed over. "
   ]
  },
  {
   "cell_type": "code",
   "execution_count": 10,
   "metadata": {},
   "outputs": [
    {
     "name": "stderr",
     "output_type": "stream",
     "text": [
      "100%|██████████████████████████████████████████████████████████████████████████████████| 50/50 [00:29<00:00,  1.70it/s]\n",
      "100%|██████████████████████████████████████████████████████████████████████████████████| 50/50 [00:29<00:00,  1.70it/s]\n",
      "100%|██████████████████████████████████████████████████████████████████████████████████| 50/50 [00:28<00:00,  1.76it/s]\n",
      "100%|██████████████████████████████████████████████████████████████████████████████████| 50/50 [00:27<00:00,  1.80it/s]\n"
     ]
    },
    {
     "name": "stdout",
     "output_type": "stream",
     "text": [
      "Power across different scales of the mean function\n",
      "method: RMMD; param value: 1.5  -->  1.0000000000000004\n",
      "method: MMD; param value: 1.5  -->  1.0000000000000004\n",
      "method: RMMD; param value: 1.25  -->  1.0000000000000004\n",
      "method: MMD; param value: 1.25  -->  0.9200000000000005\n",
      "method: RMMD; param value: 1.1  -->  0.6400000000000002\n",
      "method: MMD; param value: 1.1  -->  0.21999999999999997\n",
      "method: RMMD; param value: 1.05  -->  0.23999999999999996\n",
      "method: MMD; param value: 1.05  -->  0.08\n"
     ]
    }
   ],
   "source": [
    "methods = [tst.RMMD,tst.MMD]#, tst.C2ST\n",
    "alpha = 0.05 # significance level\n",
    "num_runs= 50\n",
    "\n",
    "\n",
    "# iterate over different mean functions. Reference sample has amplitutude equal to 1\n",
    "params = [1.5,1.25,1.1,1.05]\n",
    "power = general_utils.performance_comparisons(methods,num_runs,param_name='mean_scale',params=params,\n",
    "                                              mean_scale=1,alpha=alpha,num_obs = 20,size=300)\n",
    "print(\"Power across different scales of the mean function\")\n",
    "for key, value in power.items():\n",
    "     print(key, '--> ', value) "
   ]
  },
  {
   "cell_type": "markdown",
   "metadata": {},
   "source": [
    "### Comparisons on power for different error variances"
   ]
  },
  {
   "cell_type": "code",
   "execution_count": 8,
   "metadata": {},
   "outputs": [
    {
     "name": "stderr",
     "output_type": "stream",
     "text": [
      "100%|██████████████████████████████████████████████████████████████████████████████████| 50/50 [02:44<00:00,  3.28s/it]\n",
      "100%|██████████████████████████████████████████████████████████████████████████████████| 50/50 [02:44<00:00,  3.29s/it]\n",
      "100%|██████████████████████████████████████████████████████████████████████████████████| 50/50 [02:42<00:00,  3.25s/it]\n",
      "100%|██████████████████████████████████████████████████████████████████████████████████| 50/50 [02:45<00:00,  3.30s/it]\n"
     ]
    },
    {
     "name": "stdout",
     "output_type": "stream",
     "text": [
      "Power across different error variance\n",
      "method: RMMD; param value: 0.11  -->  0.21999999999999997\n",
      "method: C2ST; param value: 0.11  -->  0.04\n",
      "method: MMD; param value: 0.11  -->  0.06\n",
      "method: RMMD; param value: 0.15  -->  0.9800000000000005\n",
      "method: C2ST; param value: 0.15  -->  0.1\n",
      "method: MMD; param value: 0.15  -->  0.34\n",
      "method: RMMD; param value: 0.2  -->  1.0000000000000004\n",
      "method: C2ST; param value: 0.2  -->  0.38000000000000006\n",
      "method: MMD; param value: 0.2  -->  0.7000000000000003\n",
      "method: RMMD; param value: 0.25  -->  1.0000000000000004\n",
      "method: C2ST; param value: 0.25  -->  0.6800000000000003\n",
      "method: MMD; param value: 0.25  -->  1.0000000000000004\n"
     ]
    }
   ],
   "source": [
    "methods = [tst.RMMD, tst.C2ST, tst.MMD]\n",
    "alpha = 0.05 # significance level\n",
    "num_runs= 50\n",
    "\n",
    "\n",
    "# iterate over different gaussian variances\n",
    "# variance of fixed sample is 0.1\n",
    "params = [0.11,0.15,0.2,0.25]\n",
    "power = general_utils.performance_comparisons(methods,num_runs,param_name='var1',params=params,\n",
    "                                              alpha=alpha)\n",
    "print(\"Power across different error variance\")\n",
    "for key, value in power.items():\n",
    "     print(key, '--> ', value)"
   ]
  },
  {
   "cell_type": "markdown",
   "metadata": {},
   "source": [
    "### Comparisons of time complexity across different models"
   ]
  },
  {
   "cell_type": "code",
   "execution_count": null,
   "metadata": {},
   "outputs": [],
   "source": [
    "methods = [tst.RMMD, tst.C2ST, tst.MMD]\n",
    "sizes = [1000,2000]\n",
    "times = general_utils.time_complexity(methods,num_runs=10, sizes=sizes, num_obs = 10)\n",
    "print(\"Average run times for 1 test computation with varying sample size of 10 obs\")\n",
    "for key, value in times.items(): \n",
    "     print(key, '--> ', value)"
   ]
  },
  {
   "cell_type": "markdown",
   "metadata": {},
   "source": [
    "### Performance comparisons as a function of the number of random features"
   ]
  },
  {
   "cell_type": "code",
   "execution_count": 12,
   "metadata": {},
   "outputs": [
    {
     "name": "stderr",
     "output_type": "stream",
     "text": [
      "100%|██████████| 100/100 [00:52<00:00,  1.89it/s]\n",
      "100%|██████████| 100/100 [00:54<00:00,  1.83it/s]\n",
      "100%|██████████| 100/100 [00:56<00:00,  1.78it/s]\n",
      "100%|██████████| 100/100 [00:56<00:00,  1.77it/s]\n",
      "100%|██████████| 100/100 [01:00<00:00,  1.66it/s]\n"
     ]
    },
    {
     "name": "stdout",
     "output_type": "stream",
     "text": [
      "Performance as a function of the number of random features\n",
      "method: RMMD; number of features: 10  -->  0.6400000000000003\n",
      "method: RMMD; number of features: 50  -->  0.6100000000000003\n",
      "method: RMMD; number of features: 100  -->  0.6300000000000003\n",
      "method: RMMD; number of features: 250  -->  0.6700000000000004\n",
      "method: RMMD; number of features: 500  -->  0.6100000000000003\n"
     ]
    }
   ],
   "source": [
    "perf = general_utils.perf_num_features(num_runs=100,num_features=[10,50,100,250,500], mean_scale = 1.1)\n",
    "print(\"Performance as a function of the number of random features\")\n",
    "for key, value in perf.items():\n",
    "     print(key, '--> ', value)"
   ]
  }
 ],
 "metadata": {
  "kernelspec": {
   "display_name": "tensorflow",
   "language": "python",
   "name": "tensorflow"
  },
  "language_info": {
   "codemirror_mode": {
    "name": "ipython",
    "version": 3
   },
   "file_extension": ".py",
   "mimetype": "text/x-python",
   "name": "python",
   "nbconvert_exporter": "python",
   "pygments_lexer": "ipython3",
   "version": "3.6.8"
  }
 },
 "nbformat": 4,
 "nbformat_minor": 4
}
