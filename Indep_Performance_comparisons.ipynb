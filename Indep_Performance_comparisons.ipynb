{
 "cells": [
  {
   "cell_type": "markdown",
   "metadata": {},
   "source": [
    "This script reproduces the results presented in the two-sample experiments. For comparisons with other methods include any one of 'tst.RDC', 'tst.COR', 'tst.HSIC' in the the methods list below."
   ]
  },
  {
   "cell_type": "code",
   "execution_count": 2,
   "metadata": {},
   "outputs": [
    {
     "name": "stdout",
     "output_type": "stream",
     "text": [
      "The autoreload extension is already loaded. To reload it, use:\n",
      "  %reload_ext autoreload\n"
     ]
    }
   ],
   "source": [
    "%load_ext autoreload\n",
    "%autoreload 2\n",
    "%matplotlib inline\n",
    "import numpy as np\n",
    "import matplotlib.pyplot as plt\n",
    "import general_utils as general_utils\n",
    "import data as data\n",
    "import kernel_utils as kernel_utils\n",
    "import independence_test_utils as tst"
   ]
  },
  {
   "cell_type": "markdown",
   "metadata": {},
   "source": [
    "### Comparisons on type I error for different sample sizes and number of observations\n",
    "We generate data under the null hypothesis of equal distribution. Below we define the methods to be compared, our desired level $\\alpha$ and the number of runs our results will be avergaed over. "
   ]
  },
  {
   "cell_type": "code",
   "execution_count": 3,
   "metadata": {},
   "outputs": [
    {
     "name": "stderr",
     "output_type": "stream",
     "text": [
      "100%|████████████████████████████████████████████████████████████████████████████████| 100/100 [02:34<00:00,  1.55s/it]\n"
     ]
    },
    {
     "name": "stdout",
     "output_type": "stream",
     "text": [
      "Type I error different number of samples\n",
      "method: RHSIC; param value: 100  -->  0.07\n",
      "method: RDC; param value: 100  -->  0.05\n",
      "method: COR; param value: 100  -->  0.08\n"
     ]
    }
   ],
   "source": [
    "methods = [tst.RHSIC,tst.RDC,tst.COR] #,tst.HSIC\n",
    "alpha = 0.05 # significance level\n",
    "num_runs= 100 # number of times experiment is replicated\n",
    "variance = 0.1\n",
    "\n",
    "# iterate over different sample sizes\n",
    "params_size = [100]\n",
    "error = general_utils.performance_comparisons_indep(methods,num_runs,param_name='size',params=params_size,\n",
    "                                                     var=variance,alpha=alpha, data_type='ind')\n",
    "\n",
    "print(\"Type I error with different number of samples\")\n",
    "for key, value in error.items():\n",
    "     print(key, '--> ', value)"
   ]
  },
  {
   "cell_type": "markdown",
   "metadata": {},
   "source": [
    "### Comparisons of power for less dependent data by increasing the variance of error terms\n",
    "We generate data under the alternative hypothesis of dependence between the functional samples. Below we define the methods to be compared, our desired level $\\alpha$ and the number of runs our results will be avergaed over. "
   ]
  },
  {
   "cell_type": "code",
   "execution_count": 5,
   "metadata": {},
   "outputs": [
    {
     "name": "stderr",
     "output_type": "stream",
     "text": [
      "100%|██████████████████████████████████████████████████████████████████████████████████| 50/50 [01:27<00:00,  1.75s/it]\n",
      "100%|██████████████████████████████████████████████████████████████████████████████████| 50/50 [01:31<00:00,  1.82s/it]\n",
      "100%|██████████████████████████████████████████████████████████████████████████████████| 50/50 [01:31<00:00,  1.84s/it]\n",
      "100%|██████████████████████████████████████████████████████████████████████████████████| 50/50 [01:30<00:00,  1.81s/it]\n",
      "100%|██████████████████████████████████████████████████████████████████████████████████| 50/50 [01:29<00:00,  1.78s/it]\n",
      "100%|██████████████████████████████████████████████████████████████████████████████████| 50/50 [01:28<00:00,  1.77s/it]\n",
      "100%|██████████████████████████████████████████████████████████████████████████████████| 50/50 [01:26<00:00,  1.72s/it]\n"
     ]
    },
    {
     "name": "stdout",
     "output_type": "stream",
     "text": [
      "Power across different values of the variance\n",
      "method: RHSIC; param value: 0.1  -->  1.0000000000000004\n",
      "method: COR; param value: 0.1  -->  0.36000000000000004\n",
      "method: HSIC; param value: 0.1  -->  1.0000000000000004\n",
      "method: RDC; param value: 0.1  -->  1.0000000000000004\n",
      "method: RHSIC; param value: 0.25  -->  1.0000000000000004\n",
      "method: COR; param value: 0.25  -->  0.34\n",
      "method: HSIC; param value: 0.25  -->  0.9600000000000005\n",
      "method: RDC; param value: 0.25  -->  1.0000000000000004\n",
      "method: RHSIC; param value: 0.5  -->  0.9800000000000005\n",
      "method: COR; param value: 0.5  -->  0.34\n",
      "method: HSIC; param value: 0.5  -->  0.8600000000000004\n",
      "method: RDC; param value: 0.5  -->  0.8800000000000004\n",
      "method: RHSIC; param value: 0.75  -->  0.9800000000000005\n",
      "method: COR; param value: 0.75  -->  0.4000000000000001\n",
      "method: HSIC; param value: 0.75  -->  0.7400000000000003\n",
      "method: RDC; param value: 0.75  -->  0.6800000000000003\n",
      "method: RHSIC; param value: 1  -->  0.8000000000000004\n",
      "method: COR; param value: 1  -->  0.4200000000000001\n",
      "method: HSIC; param value: 1  -->  0.5200000000000001\n",
      "method: RDC; param value: 1  -->  0.6000000000000002\n",
      "method: RHSIC; param value: 1.25  -->  0.5200000000000001\n",
      "method: COR; param value: 1.25  -->  0.25999999999999995\n",
      "method: HSIC; param value: 1.25  -->  0.38000000000000006\n",
      "method: RDC; param value: 1.25  -->  0.32\n",
      "method: RHSIC; param value: 1.5  -->  0.32\n",
      "method: COR; param value: 1.5  -->  0.16\n",
      "method: HSIC; param value: 1.5  -->  0.25999999999999995\n",
      "method: RDC; param value: 1.5  -->  0.21999999999999997\n"
     ]
    }
   ],
   "source": [
    "methods = [tst.RHSIC,tst.COR,tst.HSIC,tst.RDC] #,tst.HSIC,tst.RDC\n",
    "alpha = 0.05 # significance level\n",
    "num_runs= 50\n",
    "variance = 0.1\n",
    "\n",
    "# iterate over different variances with a random transformation (among a set of choices) \n",
    "# of the original signal\n",
    "params_var = [0.1,0.25,0.5,0.75,1,1.25,1.5]\n",
    "power = general_utils.performance_comparisons_indep(methods,num_runs,param_name='var',\n",
    "                                                    params=params_var,alpha=alpha, num_obs=100,\n",
    "                                                    data_type='dep',transformation = None)\n",
    "\n",
    "print(\"Power across different values of the variance\")\n",
    "for key, value in power.items():\n",
    "     print(key, '--> ', value)"
   ]
  },
  {
   "cell_type": "markdown",
   "metadata": {},
   "source": [
    "### Comparisons of power as a function of the number of observations in each trajectory\n",
    "We generate data under the alternative hypothesis of dependence between the functional samples. Below we define the methods to be compared, our desired level $\\alpha$ and the number of runs our results will be avergaed over. "
   ]
  },
  {
   "cell_type": "code",
   "execution_count": 14,
   "metadata": {},
   "outputs": [
    {
     "name": "stderr",
     "output_type": "stream",
     "text": [
      "100%|██████████| 100/100 [03:16<00:00,  1.97s/it]\n",
      "100%|██████████| 100/100 [03:29<00:00,  2.09s/it]\n",
      "100%|██████████| 100/100 [03:31<00:00,  2.12s/it]\n",
      "100%|██████████| 100/100 [03:18<00:00,  1.99s/it]\n",
      "100%|██████████| 100/100 [03:30<00:00,  2.10s/it]\n",
      "100%|██████████| 100/100 [03:28<00:00,  2.09s/it]\n"
     ]
    },
    {
     "name": "stdout",
     "output_type": "stream",
     "text": [
      "Power across different number of observations\n",
      "method: COR; param value: 5  -->  0.2800000000000001\n",
      "method: RDC; param value: 5  -->  0.36000000000000015\n",
      "method: COR; param value: 10  -->  0.34000000000000014\n",
      "method: RDC; param value: 10  -->  0.47000000000000025\n",
      "method: COR; param value: 20  -->  0.2800000000000001\n",
      "method: RDC; param value: 20  -->  0.5200000000000002\n",
      "method: COR; param value: 50  -->  0.2700000000000001\n",
      "method: RDC; param value: 50  -->  0.47000000000000025\n",
      "method: COR; param value: 100  -->  0.22000000000000006\n",
      "method: RDC; param value: 100  -->  0.4300000000000002\n",
      "method: COR; param value: 200  -->  0.36000000000000015\n",
      "method: RDC; param value: 200  -->  0.45000000000000023\n"
     ]
    }
   ],
   "source": [
    "methods = [tst.COR,tst.RDC] #,tst.HSIC\n",
    "alpha = 0.05 # significance level\n",
    "num_runs= 100\n",
    "variance = 1\n",
    "\n",
    "# iterate over different variances with a square transformation of the original signal\n",
    "params_num_obs = [5,10,20,50,100,200]\n",
    "power = general_utils.performance_comparisons_indep(methods,num_runs,param_name='num_obs',\n",
    "                                                    params=params_num_obs,alpha=alpha, \n",
    "                                                    data_type='dep',var = variance)\n",
    "\n",
    "print(\"Power across different number of observations\")\n",
    "for key, value in power.items():\n",
    "     print(key, '--> ', value)"
   ]
  },
  {
   "cell_type": "markdown",
   "metadata": {},
   "source": [
    "### Comparisons of time complexity across different models"
   ]
  },
  {
   "cell_type": "code",
   "execution_count": 5,
   "metadata": {},
   "outputs": [
    {
     "name": "stderr",
     "output_type": "stream",
     "text": [
      "100%|██████████| 2/2 [07:34<00:00, 227.01s/it]\n"
     ]
    },
    {
     "name": "stdout",
     "output_type": "stream",
     "text": [
      "Average run times for 1 test computation with varying sample size of 10 obs\n",
      "method: RDC, number of samples 1000 -->  7.632645606994629\n",
      "method: COR, number of samples 1000 -->  0.1326216220855713\n",
      "method: RHSIC, number of samples 1000 -->  2.2937623262405396\n",
      "method: HSIC, number of samples 1000 -->  2.1175427198410035\n",
      "method: RDC, number of samples 2000 -->  13.836620783805847\n",
      "method: COR, number of samples 2000 -->  0.1805337905883789\n",
      "method: RHSIC, number of samples 2000 -->  9.569473600387573\n",
      "method: HSIC, number of samples 2000 -->  9.487808418273925\n"
     ]
    }
   ],
   "source": [
    "methods = [tst.RDC,tst.COR,tst.RHSIC,tst.HSIC]\n",
    "sizes = [1000,2000]\n",
    "times = general_utils.time_complexity(methods,num_runs=10, sizes=sizes, num_obs = 10)\n",
    "print(\"Average run times for 1 test computation with varying sample size of 10 obs\")\n",
    "for key, value in times.items(): \n",
    "     print(key, '--> ', value)"
   ]
  }
 ],
 "metadata": {
  "kernelspec": {
   "display_name": "tensorflow",
   "language": "python",
   "name": "tensorflow"
  },
  "language_info": {
   "codemirror_mode": {
    "name": "ipython",
    "version": 3
   },
   "file_extension": ".py",
   "mimetype": "text/x-python",
   "name": "python",
   "nbconvert_exporter": "python",
   "pygments_lexer": "ipython3",
   "version": "3.6.8"
  }
 },
 "nbformat": 4,
 "nbformat_minor": 4
}
